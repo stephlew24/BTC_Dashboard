{
 "cells": [
  {
   "cell_type": "code",
   "execution_count": 1,
   "id": "9bc300d6-1a4c-476a-943a-1fb25967c520",
   "metadata": {},
   "outputs": [],
   "source": [
    "import pandas as pd\n",
    "import requests\n",
    "import json\n",
    "from pymongo import MongoClient\n",
    "import requests\n",
    "import time\n",
    "from collections import OrderedDict\n",
    "from datetime import datetime, timedelta\n",
    "import ipynb\n",
    "from ipynb.fs.full.Coinbase_API import get_daily_data\n",
    "from ipynb.fs.full.Into_the_Block_API import get_daily_info\n",
    "from ipynb.fs.full.News_API import get_news\n",
    "from ipynb.fs.full.ITB_Stats import get_daily_stats\n",
    "import ipynb.fs.full.config as cfg"
   ]
  },
  {
   "cell_type": "code",
   "execution_count": 2,
   "id": "e95940c8-e95a-4d83-a3c8-d16d71f00b21",
   "metadata": {
    "tags": []
   },
   "outputs": [],
   "source": [
    "#Initialize database\n",
    "client = MongoClient()\n",
    "db = client.crypto\n",
    "\n",
    "#Insert Tables\n",
    "prices = db.prices\n",
    "block_size = db.blocksize\n",
    "avg_block_size = db.avgblocksize\n",
    "n_trans = db.ntrans\n",
    "n_payments = db.npayments\n",
    "total_n_trans = db.totalntrans\n",
    "med_confirm = db.medconfirm\n",
    "avg_confirm = db.avgconfirm\n",
    "news = db.news\n",
    "stats = db.stats\n",
    "\n",
    "\n",
    "\n",
    "def update_coinbase(database, collection, symbol, start_date_text='2015-07-30'):    \n",
    "    status=True\n",
    "    #Check if db has entries and update from the last update or the given date\n",
    "    database_size = len(list(collection.find({}))) \n",
    "    #The the databse is empty update with all historical data\n",
    "    if database_size == 0:\n",
    "        start_date = datetime.strptime(start_date_text, '%Y-%m-%d').date()\n",
    "        end_date = start_date + timedelta(days=275)\n",
    "        end_date_text = end_date.strftime('%Y-%m-%d')\n",
    "        entry = get_daily_data(symbol, start_date_text, end_date_text)\n",
    "        while status == True: #Keep updating the dates until you return nothing\n",
    "            start_date = end_date + timedelta(days=1)\n",
    "            end_date = start_date + timedelta(days=275)\n",
    "            start_date_text = start_date.strftime('%Y-%m-%d')\n",
    "            end_date_text = end_date.strftime('%Y-%m-%d')\n",
    "            entries = get_daily_data(symbol, start_date_text, end_date_text)\n",
    "            if len(entries) > 0:\n",
    "                entry.extend(entries)\n",
    "                time.sleep(5)\n",
    "            else:\n",
    "                status=False\n",
    "        collection.insert_many(entry)\n",
    "    else: #otherwise update the entire database with the most recent entries\n",
    "        last_update = list(collection.find({}, {'date':1,'_id':0}).sort([('date', -1)]).limit(1))[0]['date'].date()\n",
    "        last_update_text = last_update.strftime('%Y-%m-%d')\n",
    "        end_date = datetime.today().date() + timedelta(days=1)\n",
    "        end_date_text = end_date.strftime('%Y-%m-%d')\n",
    "        try:\n",
    "            entries = get_daily_data(symbol, last_update_text, end_date_text)\n",
    "            if len(entries) > 0 and last_update != datetime.today().date():\n",
    "                collection.insert_many(entries)\n",
    "                print('Updated')\n",
    "            else:\n",
    "                print('No update for today')\n",
    "        except ValueError:\n",
    "            pass\n",
    "def update_ITB(chart, database, collection, start_date_text='2015-07-30'):\n",
    "    status=True\n",
    "    database_size = len(list(collection.find({})))\n",
    "    if database_size == 0:\n",
    "        entry = get_daily_info(start_date_text, chart)\n",
    "        while status == True:\n",
    "            start_date = datetime.strptime(start_date_text, '%Y-%m-%d').date()\n",
    "            start_date = start_date + timedelta(days=365)\n",
    "            start_date_text = start_date.strftime('%Y-%m-%d')\n",
    "            try:\n",
    "                entries = get_daily_info(start_date_text, chart)\n",
    "                if len(entries) > 0:\n",
    "                    entry.extend(entries)\n",
    "                    time.sleep(5)\n",
    "                else:\n",
    "                    status=False\n",
    "            except UnboundLocalError:\n",
    "                status=False\n",
    "                continue\n",
    "        collection.insert_many(entry)\n",
    "    else:\n",
    "        last_update = list(collection.find({}, {'date':1,'_id':0}).sort([('date', -1)]).limit(1))[0]['date'].date()\n",
    "        last_update = last_update + timedelta(days=1)\n",
    "        last_update_text = last_update.strftime('%Y-%m-%d')\n",
    "        try:\n",
    "            entries = get_daily_info(last_update_text, chart)\n",
    "            if len(entries) > 0:\n",
    "                collection.insert_many(entries)\n",
    "                print('Updated')\n",
    "            else:\n",
    "                print('No update for today')\n",
    "        except ValueError:\n",
    "            pass\n",
    "def update_news(database, collection):\n",
    "    entry = get_news()\n",
    "    for i in entry:\n",
    "        if len(list(collection.find({'url':i['url']}))) == 0 and len(i) > 0:\n",
    "            collection.insert_one(i)\n",
    "def update_stats(database, collection):\n",
    "    entry = get_daily_stats()\n",
    "    if len(list(collection.find({'date':entry[0]['date']}))) == 0 and len(entry) > 0:\n",
    "        collection.insert_one(entry[0])"
   ]
  },
  {
   "cell_type": "code",
   "execution_count": 3,
   "id": "ad38a52f-9224-4e67-ad77-890b7b825638",
   "metadata": {},
   "outputs": [
    {
     "name": "stdout",
     "output_type": "stream",
     "text": [
      "[{'_id': ObjectId('618801fb2e2473bee47db52a'), 'unix': 1636243200, 'low': 61397.86, 'high': 62400.0, 'open': 61539.3, 'close': 62211.47, 'volume': 3386.97941339, 'date': datetime.datetime(2021, 11, 7, 0, 0), 'vol_fiat': 210708968.1667296}, {'_id': ObjectId('618801fb2e2473bee47db52b'), 'unix': 1636156800, 'low': 60125.0, 'high': 61599.25, 'open': 61006.14, 'close': 61539.31, 'volume': 6366.43859189, 'date': datetime.datetime(2021, 11, 6, 0, 0), 'vol_fiat': 391786238.10228217}, {'_id': ObjectId('6186b53129fb9502ff968bb1'), 'unix': 1636156800, 'low': 60125, 'high': 61599.25, 'open': 61006.14, 'close': 60697.46, 'volume': 4780.19549623, 'date': datetime.datetime(2021, 11, 6, 0, 0), 'vol_fiat': 290145724.92460054}]\n"
     ]
    }
   ],
   "source": [
    "#Diagnose the DB if necessary\n",
    "\n",
    "#View collections\n",
    "# print(db.list_collection_names())\n",
    "\n",
    "#Drop collections\n",
    "# db.drop_collection('prices')\n",
    "\n",
    "#Drop an entry\n",
    "query = prices.find({}).sort([('date', -1)]).limit(3)\n",
    "print(list(query))\n",
    "#print(query[3])\n",
    "#prices.delete_one(query[4])\n",
    "\n",
    "#Check the length\n",
    "#len(list(stats.find({})))"
   ]
  },
  {
   "cell_type": "code",
   "execution_count": 4,
   "id": "25b3a585-97f4-49bd-a412-fbea92ccf59c",
   "metadata": {},
   "outputs": [
    {
     "name": "stdout",
     "output_type": "stream",
     "text": [
      "Updated\n"
     ]
    }
   ],
   "source": [
    "symbol = 'BTC-USD'\n",
    "update_coinbase(db, prices, symbol)"
   ]
  },
  {
   "cell_type": "code",
   "execution_count": 5,
   "id": "fac7dc85-f71e-4bb8-bb8f-b30bc02e10c7",
   "metadata": {
    "tags": []
   },
   "outputs": [
    {
     "name": "stdout",
     "output_type": "stream",
     "text": [
      "https://api.blockchain.info/charts/blocks-size?&timespan=365days&start=2021-10-25&format=json\n",
      "Updated\n"
     ]
    }
   ],
   "source": [
    "chart = 'blocks-size'\n",
    "update_ITB(chart, db, block_size)"
   ]
  },
  {
   "cell_type": "code",
   "execution_count": 6,
   "id": "b6980a1b-4053-41e8-acf5-d8298acea74d",
   "metadata": {},
   "outputs": [
    {
     "name": "stdout",
     "output_type": "stream",
     "text": [
      "https://api.blockchain.info/charts/avg-block-size?&timespan=365days&start=2021-10-25&format=json\n",
      "Updated\n"
     ]
    }
   ],
   "source": [
    "chart = 'avg-block-size'\n",
    "update_ITB(chart, db, avg_block_size)"
   ]
  },
  {
   "cell_type": "code",
   "execution_count": 7,
   "id": "1ad38f4e-f795-4d50-9e9f-49b40a733f66",
   "metadata": {},
   "outputs": [
    {
     "name": "stdout",
     "output_type": "stream",
     "text": [
      "https://api.blockchain.info/charts/n-transactions-per-block?&timespan=365days&start=2021-10-25&format=json\n",
      "Updated\n"
     ]
    }
   ],
   "source": [
    "chart = 'n-transactions-per-block'\n",
    "update_ITB(chart, db, n_trans)"
   ]
  },
  {
   "cell_type": "code",
   "execution_count": 8,
   "id": "dc28fd91-f42c-46d5-8b8d-e6a2d745e592",
   "metadata": {
    "tags": []
   },
   "outputs": [],
   "source": [
    "#Not working right now\n",
    "#chart = 'n-payments-per-block'\n",
    "#update_ITB(chart, db, n_payments)"
   ]
  },
  {
   "cell_type": "code",
   "execution_count": 9,
   "id": "98e05423-0926-4a4e-b114-6ad11e16c96b",
   "metadata": {},
   "outputs": [
    {
     "name": "stdout",
     "output_type": "stream",
     "text": [
      "https://api.blockchain.info/charts/n-transactions-total?&timespan=365days&start=2021-10-25&format=json\n",
      "Updated\n"
     ]
    }
   ],
   "source": [
    "chart = 'n-transactions-total'\n",
    "update_ITB(chart, db, total_n_trans)"
   ]
  },
  {
   "cell_type": "code",
   "execution_count": 10,
   "id": "0e13c779-1b64-4b4d-8e92-23e9e0952b2e",
   "metadata": {},
   "outputs": [
    {
     "name": "stdout",
     "output_type": "stream",
     "text": [
      "https://api.blockchain.info/charts/median-confirmation-time?&timespan=365days&start=2021-10-25&format=json\n",
      "Updated\n"
     ]
    }
   ],
   "source": [
    "chart = 'median-confirmation-time'\n",
    "update_ITB(chart, db, med_confirm)"
   ]
  },
  {
   "cell_type": "code",
   "execution_count": 11,
   "id": "2c34118f-34c5-4297-87bb-bddde2aa1d1f",
   "metadata": {},
   "outputs": [
    {
     "name": "stdout",
     "output_type": "stream",
     "text": [
      "https://api.blockchain.info/charts/avg-confirmation-time?&timespan=365days&start=2021-10-25&format=json\n",
      "Updated\n"
     ]
    }
   ],
   "source": [
    "chart = 'avg-confirmation-time'\n",
    "update_ITB(chart, db, avg_confirm)"
   ]
  },
  {
   "cell_type": "code",
   "execution_count": 12,
   "id": "331dc74f-b9a6-4917-b39a-bed2946c4cbc",
   "metadata": {},
   "outputs": [],
   "source": [
    "update_news(db, news)"
   ]
  },
  {
   "cell_type": "code",
   "execution_count": 13,
   "id": "877dcc34-dcdf-4277-a917-4828adbef10a",
   "metadata": {},
   "outputs": [
    {
     "name": "stdout",
     "output_type": "stream",
     "text": [
      "https://api.blockchain.info/stats\n"
     ]
    }
   ],
   "source": [
    "update_stats(db, stats)"
   ]
  },
  {
   "cell_type": "code",
   "execution_count": 4,
   "id": "7e7fbc2f-5d26-4cb3-bb61-0371fcbc6634",
   "metadata": {},
   "outputs": [],
   "source": [
    "number1 = list(prices.find({}).sort('date', -1))[1]['close']"
   ]
  },
  {
   "cell_type": "code",
   "execution_count": 5,
   "id": "4c47cad0-6cc1-4476-be0f-ee88d775bfc5",
   "metadata": {},
   "outputs": [
    {
     "data": {
      "text/plain": [
       "60697.46"
      ]
     },
     "execution_count": 5,
     "metadata": {},
     "output_type": "execute_result"
    }
   ],
   "source": [
    "number1"
   ]
  },
  {
   "cell_type": "code",
   "execution_count": null,
   "id": "60e93381-d7a4-4ba7-88b0-fdd0ec763373",
   "metadata": {},
   "outputs": [],
   "source": []
  }
 ],
 "metadata": {
  "kernelspec": {
   "display_name": "Python 3",
   "language": "python",
   "name": "python3"
  },
  "language_info": {
   "codemirror_mode": {
    "name": "ipython",
    "version": 3
   },
   "file_extension": ".py",
   "mimetype": "text/x-python",
   "name": "python",
   "nbconvert_exporter": "python",
   "pygments_lexer": "ipython3",
   "version": "3.8.11"
  }
 },
 "nbformat": 4,
 "nbformat_minor": 5
}
