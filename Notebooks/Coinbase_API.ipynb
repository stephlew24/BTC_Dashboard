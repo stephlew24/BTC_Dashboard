{
 "cells": [
  {
   "cell_type": "code",
   "execution_count": 1,
   "id": "040d4a04-adff-4c0a-b9a8-8ba2dca212bf",
   "metadata": {},
   "outputs": [],
   "source": [
    "import pandas as pd\n",
    "import requests\n",
    "import json\n",
    "from pymongo import MongoClient\n",
    "import requests\n",
    "import time\n",
    "from collections import OrderedDict\n",
    "from datetime import datetime, timedelta\n",
    "\n",
    "def get_daily_data(symbol, start_date, end_date):\n",
    "    pair_split = symbol.split('-')\n",
    "    url = f'https://api.pro.coinbase.com/products/{symbol}/candles?start={start_date}&end={end_date}&granularity=86400'\n",
    "    response = requests.get(url)\n",
    "    if response.status_code == 200:\n",
    "        data = pd.DataFrame(json.loads(response.text), columns=['unix', 'low', 'high', 'open', 'close', 'volume'])\n",
    "        data['date'] = pd.to_datetime(data['unix'], unit='s')  # convert to a readable date\n",
    "        data['vol_fiat'] = data['volume'] * data['close']      # multiply the BTC volume by closing price to approximate fiat volume\n",
    "    \n",
    "        if data is None:\n",
    "            print(\"Did not return any data\")\n",
    "        else:\n",
    "            od = data.to_dict('records', into=OrderedDict())\n",
    "            \n",
    "    else:\n",
    "        print(\"Did not receieve OK response\")\n",
    "    return od"
   ]
  },
  {
   "cell_type": "code",
   "execution_count": null,
   "id": "37f177b1-13e9-452b-82dc-27d7434e13c3",
   "metadata": {},
   "outputs": [],
   "source": []
  }
 ],
 "metadata": {
  "kernelspec": {
   "display_name": "Python 3",
   "language": "python",
   "name": "python3"
  },
  "language_info": {
   "codemirror_mode": {
    "name": "ipython",
    "version": 3
   },
   "file_extension": ".py",
   "mimetype": "text/x-python",
   "name": "python",
   "nbconvert_exporter": "python",
   "pygments_lexer": "ipython3",
   "version": "3.8.11"
  }
 },
 "nbformat": 4,
 "nbformat_minor": 5
}
