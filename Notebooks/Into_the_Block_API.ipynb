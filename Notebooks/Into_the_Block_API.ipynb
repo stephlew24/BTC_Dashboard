{
 "cells": [
  {
   "cell_type": "code",
   "execution_count": null,
   "id": "b73c5367-bc05-4df6-a489-101ddabe714e",
   "metadata": {},
   "outputs": [],
   "source": [
    "import pandas as pd\n",
    "import requests\n",
    "import json\n",
    "from collections import OrderedDict\n",
    "from pymongo import MongoClient\n",
    "\n",
    "def get_daily_info(start_date, chart):\n",
    "    url = f'https://api.blockchain.info/charts/{chart}?&timespan=365days&start={start_date}&format=json'\n",
    "    print(url)\n",
    "    response = requests.get(url)\n",
    "    if response.status_code == 200:\n",
    "        result = json.loads(response.text)\n",
    "        data = pd.DataFrame(result['values'])#, columns=['unix','transactions'])\n",
    "        data.columns = ['unix','data']\n",
    "        data['date'] = pd.to_datetime(data['unix'], unit='s')  # convert to a readable date\n",
    "        if data is None:\n",
    "            print(\"Did not return any data\")\n",
    "        else:\n",
    "            od = data.to_dict('records', into=OrderedDict()) \n",
    "    else:\n",
    "        print(\"Did not receieve OK response\")\n",
    "    return od"
   ]
  },
  {
   "cell_type": "code",
   "execution_count": null,
   "id": "4a2f4322-b94b-47a0-b06f-d432476cb068",
   "metadata": {},
   "outputs": [],
   "source": []
  }
 ],
 "metadata": {
  "kernelspec": {
   "display_name": "Python 3",
   "language": "python",
   "name": "python3"
  },
  "language_info": {
   "codemirror_mode": {
    "name": "ipython",
    "version": 3
   },
   "file_extension": ".py",
   "mimetype": "text/x-python",
   "name": "python",
   "nbconvert_exporter": "python",
   "pygments_lexer": "ipython3",
   "version": "3.8.11"
  }
 },
 "nbformat": 4,
 "nbformat_minor": 5
}
