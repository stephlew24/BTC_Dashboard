{
 "cells": [
  {
   "cell_type": "code",
   "execution_count": 97,
   "id": "50b557bf-6427-457a-9701-ea2374cba748",
   "metadata": {},
   "outputs": [],
   "source": [
    "import pandas as pd\n",
    "import requests\n",
    "import json\n",
    "from collections import OrderedDict\n",
    "from pymongo import MongoClient\n",
    "\n",
    "def get_daily_stats():\n",
    "    url = f'https://api.blockchain.info/stats'\n",
    "    print(url)\n",
    "    response = requests.get(url)\n",
    "    if response.status_code == 200:\n",
    "        df = pd.DataFrame(columns=['timestamp','market_price_usd','hash_rate','total_fees_btc','n_btc_mined','n_tx','n_blocks_mined','totalbc',\n",
    "                                   'n_blocks_total','blocks_size','miners_rev_usd','nextretarget','difficulty','total_btc_sent'])\n",
    "        result = json.loads(response.text)\n",
    "        data = df.append(result, ignore_index=True)\n",
    "        data['date'] = pd.to_datetime(data['timestamp'][0]/1000, unit='s')  # convert to a readable date\n",
    "        data.drop(columns=['timestamp'], inplace=True)\n",
    "        if data is None:\n",
    "            print(\"Did not return any data\")\n",
    "        else:\n",
    "            od = data.to_dict('records', into=OrderedDict()) \n",
    "    else:\n",
    "        print(\"Did not receieve OK response\")\n",
    "    return od"
   ]
  },
  {
   "cell_type": "code",
   "execution_count": null,
   "id": "b5c1e6c3-41e1-40d3-8ac1-c1b65644b41c",
   "metadata": {},
   "outputs": [],
   "source": []
  },
  {
   "cell_type": "code",
   "execution_count": null,
   "id": "f2ff374b-c072-42c0-bd3b-efb8bf57c6ab",
   "metadata": {},
   "outputs": [],
   "source": []
  }
 ],
 "metadata": {
  "kernelspec": {
   "display_name": "Python 3",
   "language": "python",
   "name": "python3"
  },
  "language_info": {
   "codemirror_mode": {
    "name": "ipython",
    "version": 3
   },
   "file_extension": ".py",
   "mimetype": "text/x-python",
   "name": "python",
   "nbconvert_exporter": "python",
   "pygments_lexer": "ipython3",
   "version": "3.8.11"
  }
 },
 "nbformat": 4,
 "nbformat_minor": 5
}
