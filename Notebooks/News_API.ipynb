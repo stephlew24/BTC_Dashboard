{
 "cells": [
  {
   "cell_type": "code",
   "execution_count": 135,
   "id": "c0bccb7c-1f8b-4d37-a876-e9c0783c6d91",
   "metadata": {},
   "outputs": [],
   "source": [
    "import pandas as pd\n",
    "import requests\n",
    "import json\n",
    "from collections import OrderedDict\n",
    "from pymongo import MongoClient\n",
    "import http.client, urllib.parse\n",
    "import ipynb.fs.full.config as cfg\n",
    "\n",
    "def get_news(articles=100):\n",
    "    #Connect to API\n",
    "    conn = http.client.HTTPConnection('api.mediastack.com')\n",
    "    #Set parameters\n",
    "    params = urllib.parse.urlencode({\n",
    "        'access_key': cfg.creds['access_key'],\n",
    "        'keywords': 'cryptocurrency', 'bitcoin'\n",
    "        'sort': 'published_desc',\n",
    "        'countries': 'us',\n",
    "        'limit': articles,\n",
    "        })\n",
    "    #Request Data\n",
    "    conn.request('GET', '/v1/news?{}'.format(params))\n",
    "    #Parse Request\n",
    "    res = conn.getresponse()\n",
    "    result = json.loads(res.read())\n",
    "    data = pd.DataFrame(columns=['author','title','description','url','source','image','category','language','country','published_at'])\n",
    "    for i in result['data']:\n",
    "        data = data.append(i,ignore_index=True)\n",
    "    data.drop(['image','category', 'language', 'country'], axis=1)\n",
    "    data['published_at'] = pd.to_datetime(data['published_at'], format='%Y-%m-%d').dt.date\n",
    "    data['published_at'] = pd.to_datetime(data['published_at'], format='%Y-%m-%d %H:%M:%S.')\n",
    "    if data is None:\n",
    "        print(\"Did not return any data\")\n",
    "    else:\n",
    "        od = data.to_dict('records', into=OrderedDict())\n",
    "    return od"
   ]
  },
  {
   "cell_type": "code",
   "execution_count": null,
   "id": "316eb87b-e061-49f9-8be9-266fe13d051a",
   "metadata": {},
   "outputs": [],
   "source": []
  }
 ],
 "metadata": {
  "kernelspec": {
   "display_name": "Python 3",
   "language": "python",
   "name": "python3"
  },
  "language_info": {
   "codemirror_mode": {
    "name": "ipython",
    "version": 3
   },
   "file_extension": ".py",
   "mimetype": "text/x-python",
   "name": "python",
   "nbconvert_exporter": "python",
   "pygments_lexer": "ipython3",
   "version": "3.8.11"
  }
 },
 "nbformat": 4,
 "nbformat_minor": 5
}
